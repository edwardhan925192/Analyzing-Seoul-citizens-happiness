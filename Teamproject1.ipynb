{
  "nbformat": 4,
  "nbformat_minor": 0,
  "metadata": {
    "colab": {
      "provenance": [],
      "authorship_tag": "ABX9TyON4+crSFwU6tVSfvPuMu0p",
      "include_colab_link": true
    },
    "kernelspec": {
      "name": "python3",
      "display_name": "Python 3"
    },
    "language_info": {
      "name": "python"
    }
  },
  "cells": [
    {
      "cell_type": "markdown",
      "metadata": {
        "id": "view-in-github",
        "colab_type": "text"
      },
      "source": [
        "<a href=\"https://colab.research.google.com/github/edwardhan925192/Python_grammar/blob/main/Teamproject1.ipynb\" target=\"_parent\"><img src=\"https://colab.research.google.com/assets/colab-badge.svg\" alt=\"Open In Colab\"/></a>"
      ]
    },
    {
      "cell_type": "code",
      "execution_count": 1,
      "metadata": {
        "id": "1F5agxDjO21v"
      },
      "outputs": [],
      "source": [
        "import numpy as np \n",
        "import pandas as pd"
      ]
    },
    {
      "cell_type": "code",
      "source": [
        "df2018 = pd.read_excel('/content/부호화 지침서 2018.xlsx',header = None)\n",
        "df2019 = pd.read_excel('/content/부호화 지침서 2019.xlsx',header = None)\n",
        "df2020 = pd.read_excel('/content/부호화 지침서 2020.xlsx',header = None)\n",
        "df2021 = pd.read_excel('/content/부호화 지표서 2021.xlsx',header = None)"
      ],
      "metadata": {
        "id": "4mXtWG7RaQ05"
      },
      "execution_count": 142,
      "outputs": []
    },
    {
      "cell_type": "code",
      "source": [
        "pd.options.display.max_rows = None\n"
      ],
      "metadata": {
        "id": "I01dvGgjhbfs"
      },
      "execution_count": 153,
      "outputs": []
    },
    {
      "cell_type": "code",
      "source": [
        "pd.options.display.max_columns = None"
      ],
      "metadata": {
        "id": "mXmh4SjX1jl5"
      },
      "execution_count": 152,
      "outputs": []
    },
    {
      "cell_type": "code",
      "source": [
        "df2019"
      ],
      "metadata": {
        "id": "0ePDliQF1HQM"
      },
      "execution_count": null,
      "outputs": []
    },
    {
      "cell_type": "code",
      "source": [
        "def find_word(name):\n",
        "  print(f'2018:{df2018[df2018[2].str.contains(name)].loc[:,[0,2,3]]}')\n",
        "  print('*'*100)\n",
        "  print(f'2019:{df2019[df2019[2].str.contains(name)].loc[:,[0,2,3]]}')\n",
        "  print('*'*100)\n",
        "  print(f'2020:{df2020[df2020[2].str.contains(name)].loc[:,[0,2,3]]}')  \n",
        "  print('*'*100)\n",
        "  print(f'2021:{df2021[df2021[2].str.contains(name)].loc[:,[0,2,3]]}')\n",
        "\n"
      ],
      "metadata": {
        "id": "sYRl4ubgoIUR"
      },
      "execution_count": 147,
      "outputs": []
    },
    {
      "cell_type": "markdown",
      "source": [
        "# 2018 ~ 2021까지 단어찾기 \n",
        "  find_word('string')"
      ],
      "metadata": {
        "id": "-I2onYd9xEMT"
      }
    },
    {
      "cell_type": "code",
      "source": [
        "find_word('차별')"
      ],
      "metadata": {
        "id": "BH9DNHLcsVcC"
      },
      "execution_count": null,
      "outputs": []
    },
    {
      "cell_type": "code",
      "source": [
        "df2018[0] = df2018[0].apply(lambda x: x.upper())\n",
        "df2019[0] = df2019[0].apply(lambda x: x.upper())\n",
        "df2020[0] = df2020[0].apply(lambda x: x.upper())\n",
        "df2021[0] = df2021[0].apply(lambda x: x.upper())\n",
        "buho2018 = set(df2018[0])\n",
        "buho2019 = set(df2019[0])\n",
        "buho2020 = set(df2020[0])\n",
        "buho2021 = set(df2021[0])\n",
        "total_buho1 = buho2018.intersection(buho2019)\n",
        "total_buho1 = total_buho1.intersection(buho2020)\n",
        "total_buho1 = total_buho1.intersection(buho2021)\n"
      ],
      "metadata": {
        "id": "y0iQ6-XGgnB9"
      },
      "execution_count": 120,
      "outputs": []
    },
    {
      "cell_type": "code",
      "source": [
        "total_buho1 = list(total_buho1)"
      ],
      "metadata": {
        "id": "DSXcd3wyhG-j"
      },
      "execution_count": 128,
      "outputs": []
    },
    {
      "cell_type": "code",
      "source": [
        "df2021.set_index(0, inplace = True)"
      ],
      "metadata": {
        "id": "txqDihgAwK4N"
      },
      "execution_count": 132,
      "outputs": []
    },
    {
      "cell_type": "markdown",
      "source": [
        "#2018 ~ 2021 다 포함이된 데이터프레임 \n",
        "#df_same_element"
      ],
      "metadata": {
        "id": "spGKELsRw4u-"
      }
    },
    {
      "cell_type": "code",
      "source": [
        "df_same_element = df2021.loc[total_buho1,:]"
      ],
      "metadata": {
        "id": "pHAqwnI0wnsy"
      },
      "execution_count": 134,
      "outputs": []
    }
  ]
}