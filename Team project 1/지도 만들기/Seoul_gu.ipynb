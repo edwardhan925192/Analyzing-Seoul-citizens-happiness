{
  "nbformat": 4,
  "nbformat_minor": 0,
  "metadata": {
    "colab": {
      "provenance": [],
      "mount_file_id": "1PfhmXrcT754rJe1Pj3dO7VQZ-6mKlARM",
      "authorship_tag": "ABX9TyNzVdCXRU7LDA/2TXCEG17z",
      "include_colab_link": true
    },
    "kernelspec": {
      "name": "python3",
      "display_name": "Python 3"
    },
    "language_info": {
      "name": "python"
    }
  },
  "cells": [
    {
      "cell_type": "markdown",
      "metadata": {
        "id": "view-in-github",
        "colab_type": "text"
      },
      "source": [
        "<a href=\"https://colab.research.google.com/github/edwardhan925192/Python_grammar/blob/main/Team%20project%201/%EC%A7%80%EB%8F%84%20%EB%A7%8C%EB%93%A4%EA%B8%B0/Seoul_gu.ipynb\" target=\"_parent\"><img src=\"https://colab.research.google.com/assets/colab-badge.svg\" alt=\"Open In Colab\"/></a>"
      ]
    },
    {
      "cell_type": "code",
      "execution_count": 4,
      "metadata": {
        "id": "zJ1MDsN4wZFe"
      },
      "outputs": [],
      "source": [
        "import pandas as pd \n",
        "import numpy as np \n",
        "import folium \n",
        "import json"
      ]
    },
    {
      "cell_type": "markdown",
      "source": [
        "#사용할 json 경계데이터와 이용할데이터 불러오기"
      ],
      "metadata": {
        "id": "5lL5xbH_ypX2"
      }
    },
    {
      "cell_type": "code",
      "source": [
        "gu_lat_long = pd.read_excel('/content/drive/MyDrive/data/행복도 데이터/지도용 데이터/구별위경도_25.xlsx',header = None)"
      ],
      "metadata": {
        "id": "WtJNURrywuV0"
      },
      "execution_count": 7,
      "outputs": []
    },
    {
      "cell_type": "code",
      "source": [
        "df_seoul = pd.read_csv('/content/drive/MyDrive/data/행복도 데이터/seoulsurvey_newest.csv')"
      ],
      "metadata": {
        "id": "mHbJzlDC0mS4"
      },
      "execution_count": 23,
      "outputs": []
    },
    {
      "cell_type": "code",
      "source": [
        "geo_path = '/content/drive/MyDrive/data/행복도 데이터/지도용 데이터/geo_state.json'\n",
        "try:\n",
        "  geo_data = json.load(open(geo_path, encoding='utf-8'))\n",
        "except:\n",
        "  geo_data = json.load(open(geo_path, encoding='utf-8-sig'))"
      ],
      "metadata": {
        "id": "BEzTZ566w6vZ"
      },
      "execution_count": 5,
      "outputs": []
    },
    {
      "cell_type": "markdown",
      "source": [
        "#1. Map object, 첫좌표 생성"
      ],
      "metadata": {
        "id": "XUnFKN04xe7O"
      }
    },
    {
      "cell_type": "code",
      "source": [
        "seoul_map1 = folium.Map(location=[37.55,126.98],tiles ='Stamen Terrain', zoom_start=12)"
      ],
      "metadata": {
        "id": "Bxq1BXHfxXx3"
      },
      "execution_count": 50,
      "outputs": []
    },
    {
      "cell_type": "code",
      "source": [
        "gu_lat_long.columns = ['경도','위도','구']"
      ],
      "metadata": {
        "id": "KdlJRkGvxorW"
      },
      "execution_count": 10,
      "outputs": []
    },
    {
      "cell_type": "code",
      "source": [
        "happiness = pd.DataFrame(df_seoul.groupby(['구'])['행복지수(건강)'].mean())"
      ],
      "metadata": {
        "id": "oTyFW7ev0Esm"
      },
      "execution_count": 26,
      "outputs": []
    },
    {
      "cell_type": "markdown",
      "source": [
        "#2. 경계생성,마커 생성"
      ],
      "metadata": {
        "id": "ZdYYMS_RyVAI"
      }
    },
    {
      "cell_type": "code",
      "source": [
        "folium.Choropleth(geo_data = geo_data,  # 지도 경계\n",
        "                  data = happiness['행복지수(건강)'],    # 표시하려는 데이터\n",
        "                  columns=[happiness.index, happiness['행복지수(건강)']],  # 열 지정\n",
        "                  threshold_scale = [6.5,6.7,6.9,7.1,7.4],\n",
        "                  key_on = 'feature.properties.name',\n",
        "                  fill_color = 'OrRd'\n",
        "                  ).add_to(seoul_map1)"
      ],
      "metadata": {
        "colab": {
          "base_uri": "https://localhost:8080/"
        },
        "id": "lxoATkkwzZvp",
        "outputId": "1c693d45-b8dc-4d5d-df03-5268df4c7960"
      },
      "execution_count": 51,
      "outputs": [
        {
          "output_type": "execute_result",
          "data": {
            "text/plain": [
              "<folium.features.Choropleth at 0x7fb70d730940>"
            ]
          },
          "metadata": {},
          "execution_count": 51
        }
      ]
    },
    {
      "cell_type": "code",
      "source": [
        "for i, row in gu_lat_long.iterrows():\n",
        "    temp = row[\"구\"]\n",
        "    s = \"Info\"\n",
        "    folium.Marker([row[\"위도\"], row[\"경도\"]], \n",
        "                icon = folium.DivIcon(html = f\"\"\"<div style = \"font-family: fantasy\n",
        "                  ; color: black; font-size: 10px; font-weight: 900; \"> \n",
        "                  {\"{}\".format(temp) }</div>  \"\"\")).add_to(seoul_map1)\n"
      ],
      "metadata": {
        "id": "GQ9NmsSkwfPk"
      },
      "execution_count": 52,
      "outputs": []
    },
    {
      "cell_type": "markdown",
      "source": [
        "#3.저장"
      ],
      "metadata": {
        "id": "EfjjXFgGylJk"
      }
    },
    {
      "cell_type": "code",
      "source": [
        "seoul_map1.save('./seoul.html') #png형태로도 저장가능\n"
      ],
      "metadata": {
        "id": "u0hgXi0xyinK"
      },
      "execution_count": 54,
      "outputs": []
    }
  ]
}