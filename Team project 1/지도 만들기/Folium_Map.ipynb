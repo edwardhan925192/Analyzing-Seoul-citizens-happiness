{
  "nbformat": 4,
  "nbformat_minor": 0,
  "metadata": {
    "colab": {
      "provenance": [],
      "mount_file_id": "1mwPjKM_eJNptMR1NgYqVYljF-DWAnOAw",
      "authorship_tag": "ABX9TyNXbGcsujTYtuQFjgRcks8u",
      "include_colab_link": true
    },
    "kernelspec": {
      "name": "python3",
      "display_name": "Python 3"
    },
    "language_info": {
      "name": "python"
    }
  },
  "cells": [
    {
      "cell_type": "markdown",
      "metadata": {
        "id": "view-in-github",
        "colab_type": "text"
      },
      "source": [
        "<a href=\"https://colab.research.google.com/github/edwardhan925192/Python_grammar/blob/main/Team%20project%201/%EC%A7%80%EB%8F%84%20%EB%A7%8C%EB%93%A4%EA%B8%B0/Folium_Map.ipynb\" target=\"_parent\"><img src=\"https://colab.research.google.com/assets/colab-badge.svg\" alt=\"Open In Colab\"/></a>"
      ]
    },
    {
      "cell_type": "code",
      "execution_count": 1,
      "metadata": {
        "id": "urKYwg01L1n5"
      },
      "outputs": [],
      "source": [
        "import pandas as pd \n",
        "import numpy as np \n",
        "import folium \n",
        "import json    "
      ]
    },
    {
      "cell_type": "code",
      "source": [
        "#사용할 데이터프레임, 행 \n",
        "#thresh_hold scale을 지정해주는 함수\n",
        "def thresh_hold(seoulhouse_price,house_col):\n",
        "  houseprice_scalelist = []\n",
        "  for col in house_col:\n",
        "    temp_list = []\n",
        "    temp = (seoulhouse_price[col].astype(float).max() - seoulhouse_price[col].astype(float).min()) / 5   \n",
        "    temp2 = [seoulhouse_price[col].astype(float).min() + (temp * i)for i in range(0,7)]\n",
        "    return temp2"
      ],
      "metadata": {
        "id": "-g5ksX_-Oopn"
      },
      "execution_count": 25,
      "outputs": []
    },
    {
      "cell_type": "code",
      "source": [
        "#경계 json data를 변수에 저장\n",
        "geo_path = '/geo_state (1).json' \n",
        "try:\n",
        "  geo_data = json.load(open(geo_path, encoding='utf-8'))\n",
        "except:\n",
        "  geo_data = json.load(open(geo_path, encoding='utf-8-sig'))\n",
        "\n",
        "income_map = folium.Map(location=[37.55,126.98],tiles ='Stamen Terrain', zoom_start=12) #맵설정\n"
      ],
      "metadata": {
        "id": "h2Agi7SDMPYd"
      },
      "execution_count": 55,
      "outputs": []
    },
    {
      "cell_type": "code",
      "source": [
        "gu_location = pd.read_excel('/구별위경도 (2).xlsx')"
      ],
      "metadata": {
        "id": "VuztmXZrVoZr"
      },
      "execution_count": 33,
      "outputs": []
    },
    {
      "cell_type": "code",
      "source": [
        "location = pd.read_excel('/processing_data(구별소득).xlsx') "
      ],
      "metadata": {
        "id": "6qsRoZ2bQK46"
      },
      "execution_count": 93,
      "outputs": []
    },
    {
      "cell_type": "code",
      "source": [
        "thresh_scale = thresh_hold(location ,['평균 소득'])"
      ],
      "metadata": {
        "id": "wJUF0QR6Q8lI"
      },
      "execution_count": 97,
      "outputs": []
    },
    {
      "cell_type": "code",
      "source": [
        "folium.Choropleth(geo_data = geo_data,  # 지도 경계\n",
        "                  data = location,    # 표시하려는 데이터\n",
        "                  columns=['지역구', '평균 소득'],  #지도에 표시하고싶은 열 지정\n",
        "                  threshold_scale = thresh_scale,\n",
        "                  key_on = 'feature.properties.name',\n",
        "                  fill_color = 'OrRd'\n",
        "                  ).add_to(income_map)"
      ],
      "metadata": {
        "id": "DwpOA2jsPzgx"
      },
      "execution_count": null,
      "outputs": []
    },
    {
      "cell_type": "code",
      "source": [
        "income_map.save('./평균 소득.html') #맵 저장\n"
      ],
      "metadata": {
        "id": "jIFpe1izT_3v"
      },
      "execution_count": 100,
      "outputs": []
    }
  ]
}