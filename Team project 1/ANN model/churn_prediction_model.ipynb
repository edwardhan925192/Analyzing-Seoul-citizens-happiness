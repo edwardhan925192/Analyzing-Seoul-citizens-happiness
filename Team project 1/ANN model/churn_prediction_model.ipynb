{
  "nbformat": 4,
  "nbformat_minor": 0,
  "metadata": {
    "colab": {
      "provenance": [],
      "mount_file_id": "1tImnPJMI_U1b7AGSuoCq2zu9ufsNA4r0",
      "authorship_tag": "ABX9TyPAPyMGNYo5JifzdEYmaXMe",
      "include_colab_link": true
    },
    "kernelspec": {
      "name": "python3",
      "display_name": "Python 3"
    },
    "language_info": {
      "name": "python"
    }
  },
  "cells": [
    {
      "cell_type": "markdown",
      "metadata": {
        "id": "view-in-github",
        "colab_type": "text"
      },
      "source": [
        "<a href=\"https://colab.research.google.com/github/edwardhan925192/Python_grammar/blob/main/Team%20project%201/ANN%20model/churn_prediction_model.ipynb\" target=\"_parent\"><img src=\"https://colab.research.google.com/assets/colab-badge.svg\" alt=\"Open In Colab\"/></a>"
      ]
    },
    {
      "cell_type": "code",
      "execution_count": 1,
      "metadata": {
        "id": "RM-_n5CyBklQ"
      },
      "outputs": [],
      "source": [
        "import numpy as np \n",
        "import pandas as pd "
      ]
    },
    {
      "cell_type": "code",
      "source": [
        "df = pd.read_csv('https://raw.githubusercontent.com/edwardhan925192/deep-learning-keras-tf-tutorial/master/11_chrun_prediction/customer_churn.csv')"
      ],
      "metadata": {
        "id": "VPYidFvnBww2"
      },
      "execution_count": 2,
      "outputs": []
    },
    {
      "cell_type": "markdown",
      "source": [
        "#전처리"
      ],
      "metadata": {
        "id": "hvW7Y-dnTQB_"
      }
    },
    {
      "cell_type": "code",
      "source": [
        "df.drop(['customerID'],axis = 1,inplace = True)"
      ],
      "metadata": {
        "id": "dnQPXSNYSz8P"
      },
      "execution_count": 3,
      "outputs": []
    },
    {
      "cell_type": "code",
      "source": [
        "%cd /content/drive/MyDrive/MyLibrary"
      ],
      "metadata": {
        "colab": {
          "base_uri": "https://localhost:8080/"
        },
        "id": "tVZthJ7RXBTJ",
        "outputId": "45f93fe7-1a1b-4880-9dd4-e472e7724d3f"
      },
      "execution_count": 4,
      "outputs": [
        {
          "output_type": "stream",
          "name": "stdout",
          "text": [
            "/content/drive/MyDrive/MyLibrary\n"
          ]
        }
      ]
    },
    {
      "cell_type": "code",
      "source": [
        "import preprocess"
      ],
      "metadata": {
        "id": "9VYH7Vc2_TDh"
      },
      "execution_count": 5,
      "outputs": []
    },
    {
      "cell_type": "markdown",
      "source": [
        "# Yes / No 형태 0,1"
      ],
      "metadata": {
        "id": "Dz6l6B8qXFc5"
      }
    },
    {
      "cell_type": "code",
      "source": [
        "df = preprocess.onehotencode(df,'MultipleLines')"
      ],
      "metadata": {
        "id": "JgNmGUmBZITj"
      },
      "execution_count": 6,
      "outputs": []
    },
    {
      "cell_type": "code",
      "source": [
        "df.replace({'Yes':1,'No':0},inplace = True)"
      ],
      "metadata": {
        "id": "oRdle_lNV0FD"
      },
      "execution_count": 7,
      "outputs": []
    },
    {
      "cell_type": "code",
      "source": [
        "df['gender'] = df['gender'].replace({'Female':0,'Male':1})"
      ],
      "metadata": {
        "id": "MDUD3loNWsO5"
      },
      "execution_count": 8,
      "outputs": []
    },
    {
      "cell_type": "code",
      "source": [
        "df.replace({'No internet service':0},inplace = True)"
      ],
      "metadata": {
        "id": "KXMTvMMHW15U"
      },
      "execution_count": 9,
      "outputs": []
    },
    {
      "cell_type": "code",
      "source": [
        "df = preprocess.onehotencode(df,'InternetService')"
      ],
      "metadata": {
        "id": "2Ifpqw8SAXCd"
      },
      "execution_count": 10,
      "outputs": []
    },
    {
      "cell_type": "code",
      "source": [
        "df.replace({'Month-to-month':0.1,'One year':1,'Two year':2},inplace = True)"
      ],
      "metadata": {
        "id": "AUPlvmV9aBY5"
      },
      "execution_count": 11,
      "outputs": []
    },
    {
      "cell_type": "code",
      "source": [
        "df = preprocess.onehotencode(df,'PaymentMethod')"
      ],
      "metadata": {
        "id": "NIHhqqtTAsc_"
      },
      "execution_count": 12,
      "outputs": []
    },
    {
      "cell_type": "code",
      "source": [
        "df['TotalCharges'] = pd.to_numeric(df['TotalCharges'], errors='coerce')"
      ],
      "metadata": {
        "id": "1VesfQuPBNsb"
      },
      "execution_count": 13,
      "outputs": []
    },
    {
      "cell_type": "code",
      "source": [
        "df['TotalCharges']"
      ],
      "metadata": {
        "colab": {
          "base_uri": "https://localhost:8080/"
        },
        "id": "PSikQGubCVHc",
        "outputId": "3c3e1f0d-331e-4158-de58-1cf80e4da731"
      },
      "execution_count": 14,
      "outputs": [
        {
          "output_type": "execute_result",
          "data": {
            "text/plain": [
              "0         29.85\n",
              "1       1889.50\n",
              "2        108.15\n",
              "3       1840.75\n",
              "4        151.65\n",
              "         ...   \n",
              "7038    1990.50\n",
              "7039    7362.90\n",
              "7040     346.45\n",
              "7041     306.60\n",
              "7042    6844.50\n",
              "Name: TotalCharges, Length: 7043, dtype: float64"
            ]
          },
          "metadata": {},
          "execution_count": 14
        }
      ]
    },
    {
      "cell_type": "code",
      "source": [
        "df = preprocess.remove_outliers(df,'TotalCharges',3)"
      ],
      "metadata": {
        "id": "TkRe7fsZB_uT"
      },
      "execution_count": 15,
      "outputs": []
    },
    {
      "cell_type": "code",
      "source": [
        "df = preprocess.remove_outliers(df,'tenure',3)\n",
        "df = preprocess.remove_outliers(df,'MonthlyCharges',3)"
      ],
      "metadata": {
        "id": "iGa9LUjECfkf"
      },
      "execution_count": 16,
      "outputs": []
    },
    {
      "cell_type": "code",
      "source": [
        "num_list = []\n",
        "for col in df.columns: \n",
        "  if df[col].max() > 2:\n",
        "    num_list.append(col)"
      ],
      "metadata": {
        "id": "L216n32WAyFb"
      },
      "execution_count": 17,
      "outputs": []
    },
    {
      "cell_type": "markdown",
      "source": [
        "#erasing outliers"
      ],
      "metadata": {
        "id": "tE--AtmHwRlu"
      }
    },
    {
      "cell_type": "code",
      "source": [
        "from sklearn.preprocessing import MinMaxScaler\n",
        "scaler = MinMaxScaler()"
      ],
      "metadata": {
        "id": "Uq1UN4VgwF1F"
      },
      "execution_count": 18,
      "outputs": []
    },
    {
      "cell_type": "code",
      "source": [
        "cols_to_scale = ['tenure','MonthlyCharges','TotalCharges']"
      ],
      "metadata": {
        "id": "1g_e0_wsxm7H"
      },
      "execution_count": 19,
      "outputs": []
    },
    {
      "cell_type": "code",
      "source": [
        "df[cols_to_scale] = scaler.fit_transform(df[cols_to_scale])"
      ],
      "metadata": {
        "id": "yTmsZPkkw-KY"
      },
      "execution_count": 20,
      "outputs": []
    },
    {
      "cell_type": "code",
      "source": [
        "df.to_csv('./chrun.csv',index = False)"
      ],
      "metadata": {
        "id": "caZ3MC9dEAaH"
      },
      "execution_count": 39,
      "outputs": []
    },
    {
      "cell_type": "code",
      "source": [
        "for col in df: \n",
        "  print(df[col].unique())"
      ],
      "metadata": {
        "colab": {
          "base_uri": "https://localhost:8080/"
        },
        "id": "YDReRmQfx5yf",
        "outputId": "6f327b9f-2838-4c91-a887-911937f5d2b5"
      },
      "execution_count": 21,
      "outputs": [
        {
          "output_type": "stream",
          "name": "stdout",
          "text": [
            "[0 1]\n",
            "[0 1]\n",
            "[1 0]\n",
            "[0 1]\n",
            "[0.         0.46478873 0.01408451 0.61971831 0.09859155 0.29577465\n",
            " 0.12676056 0.38028169 0.85915493 0.16901408 0.21126761 0.8028169\n",
            " 0.67605634 0.33802817 0.95774648 0.71830986 0.98591549 0.28169014\n",
            " 0.15492958 0.4084507  0.64788732 1.         0.22535211 0.36619718\n",
            " 0.05633803 0.63380282 0.14084507 0.97183099 0.87323944 0.5915493\n",
            " 0.1971831  0.83098592 0.23943662 0.91549296 0.11267606 0.02816901\n",
            " 0.42253521 0.69014085 0.88732394 0.77464789 0.08450704 0.57746479\n",
            " 0.47887324 0.66197183 0.3943662  0.90140845 0.52112676 0.94366197\n",
            " 0.43661972 0.76056338 0.50704225 0.49295775 0.56338028 0.07042254\n",
            " 0.04225352 0.45070423 0.92957746 0.30985915 0.78873239 0.84507042\n",
            " 0.18309859 0.26760563 0.73239437 0.54929577 0.81690141 0.32394366\n",
            " 0.6056338  0.25352113 0.74647887 0.70422535 0.35211268 0.53521127]\n",
            "[0 1]\n",
            "[0 1]\n",
            "[1 0]\n",
            "[0 1]\n",
            "[0 1]\n",
            "[0 1]\n",
            "[0 1]\n",
            "[0.1 1.  2. ]\n",
            "[1 0]\n",
            "[0.11542289 0.38507463 0.35422886 ... 0.44626866 0.25820896 0.60149254]\n",
            "[0.0012751  0.21586661 0.01031041 ... 0.03780868 0.03321025 0.78764136]\n",
            "[0 1]\n",
            "[0 1]\n",
            "[1 0]\n",
            "[0 1]\n",
            "[0 1]\n",
            "[1 0]\n",
            "[0 1]\n",
            "[0 1]\n",
            "[0 1]\n",
            "[1 0]\n",
            "[0 1]\n"
          ]
        }
      ]
    },
    {
      "cell_type": "markdown",
      "source": [
        "#df2 = final_churn_data"
      ],
      "metadata": {
        "id": "9ALazorNyShE"
      }
    },
    {
      "cell_type": "code",
      "source": [
        "\n",
        "import numpy as np\n",
        "import pandas as pd\n",
        "import tensorflow as tf\n",
        "from tensorflow import keras\n",
        "import matplotlib.pyplot as plt\n",
        "%matplotlib inline"
      ],
      "metadata": {
        "id": "73Sg6IkgyFPn"
      },
      "execution_count": 22,
      "outputs": []
    },
    {
      "cell_type": "code",
      "source": [
        "from sklearn.model_selection import train_test_split"
      ],
      "metadata": {
        "id": "h_v1_iB0ybnY"
      },
      "execution_count": 23,
      "outputs": []
    },
    {
      "cell_type": "code",
      "source": [
        "df.reset_index(drop = True,inplace = True)"
      ],
      "metadata": {
        "id": "mc5gFokSygbr"
      },
      "execution_count": 24,
      "outputs": []
    },
    {
      "cell_type": "code",
      "source": [
        "copy_churn1 = df[df['Churn'] == 1 ]"
      ],
      "metadata": {
        "id": "E1P-ug002q1x"
      },
      "execution_count": 25,
      "outputs": []
    },
    {
      "cell_type": "code",
      "source": [
        "new_data = pd.concat((df,copy_churn1),axis = 0)"
      ],
      "metadata": {
        "id": "tJvPTJip25gE"
      },
      "execution_count": 26,
      "outputs": []
    },
    {
      "cell_type": "code",
      "source": [
        "new_data.reset_index(drop = True, inplace = True )"
      ],
      "metadata": {
        "id": "QMWWyqfH3C1y"
      },
      "execution_count": 27,
      "outputs": []
    },
    {
      "cell_type": "code",
      "source": [
        "x = new_data.drop('Churn',axis = 1)\n",
        "y = new_data['Churn']"
      ],
      "metadata": {
        "id": "t_56epZjyrkz"
      },
      "execution_count": 28,
      "outputs": []
    },
    {
      "cell_type": "code",
      "source": [
        "X_train, X_test, y_train, y_test = train_test_split(x,y,random_state=42)"
      ],
      "metadata": {
        "id": "xffGG7MPyxWv"
      },
      "execution_count": 29,
      "outputs": []
    },
    {
      "cell_type": "code",
      "source": [
        "X_train.shape"
      ],
      "metadata": {
        "colab": {
          "base_uri": "https://localhost:8080/"
        },
        "id": "LetvhBulDX2A",
        "outputId": "88ad7dcb-294e-437a-bfe1-bb9c3ca0ed92"
      },
      "execution_count": 30,
      "outputs": [
        {
          "output_type": "execute_result",
          "data": {
            "text/plain": [
              "(6675, 26)"
            ]
          },
          "metadata": {},
          "execution_count": 30
        }
      ]
    },
    {
      "cell_type": "markdown",
      "source": [
        "#Model making"
      ],
      "metadata": {
        "id": "2eyv0-QZFAep"
      }
    },
    {
      "cell_type": "code",
      "source": [
        "churn_model = keras.Sequential([\n",
        "    keras.layers.Dense(40, input_shape=(26,), activation='relu'),\n",
        "    keras.layers.Dropout(0.2),\n",
        "    keras.layers.Dense(40,activation = 'relu'),\n",
        "    keras.layers.Dropout(0.2),\n",
        "    keras.layers.Dense(1, activation='sigmoid')\n",
        "    \n",
        "])\n",
        "churn_model.compile(keras.optimizers.Adam(learning_rate=0.005),\n",
        "              loss='binary_crossentropy',\n",
        "              metrics=['accuracy'])\n",
        "\n",
        "\n",
        "churn_model.fit(X_train, y_train, epochs=60)"
      ],
      "metadata": {
        "colab": {
          "base_uri": "https://localhost:8080/"
        },
        "id": "A5Ukk2kZzL3U",
        "outputId": "edd011c2-af48-42c9-f0cd-986ce68b9645"
      },
      "execution_count": 49,
      "outputs": [
        {
          "output_type": "stream",
          "name": "stdout",
          "text": [
            "Epoch 1/60\n",
            "209/209 [==============================] - 2s 3ms/step - loss: 0.5275 - accuracy: 0.7261\n",
            "Epoch 2/60\n",
            "209/209 [==============================] - 1s 4ms/step - loss: 0.4952 - accuracy: 0.7566\n",
            "Epoch 3/60\n",
            "209/209 [==============================] - 1s 6ms/step - loss: 0.4897 - accuracy: 0.7604\n",
            "Epoch 4/60\n",
            "209/209 [==============================] - 1s 5ms/step - loss: 0.4828 - accuracy: 0.7697\n",
            "Epoch 5/60\n",
            "209/209 [==============================] - 1s 6ms/step - loss: 0.4839 - accuracy: 0.7648\n",
            "Epoch 6/60\n",
            "209/209 [==============================] - 1s 3ms/step - loss: 0.4797 - accuracy: 0.7714\n",
            "Epoch 7/60\n",
            "209/209 [==============================] - 0s 2ms/step - loss: 0.4758 - accuracy: 0.7715\n",
            "Epoch 8/60\n",
            "209/209 [==============================] - 1s 2ms/step - loss: 0.4704 - accuracy: 0.7726\n",
            "Epoch 9/60\n",
            "209/209 [==============================] - 0s 2ms/step - loss: 0.4723 - accuracy: 0.7750\n",
            "Epoch 10/60\n",
            "209/209 [==============================] - 1s 3ms/step - loss: 0.4663 - accuracy: 0.7780\n",
            "Epoch 11/60\n",
            "209/209 [==============================] - 0s 2ms/step - loss: 0.4675 - accuracy: 0.7775\n",
            "Epoch 12/60\n",
            "209/209 [==============================] - 1s 2ms/step - loss: 0.4642 - accuracy: 0.7790\n",
            "Epoch 13/60\n",
            "209/209 [==============================] - 1s 3ms/step - loss: 0.4623 - accuracy: 0.7828\n",
            "Epoch 14/60\n",
            "209/209 [==============================] - 1s 3ms/step - loss: 0.4559 - accuracy: 0.7841\n",
            "Epoch 15/60\n",
            "209/209 [==============================] - 1s 3ms/step - loss: 0.4574 - accuracy: 0.7864\n",
            "Epoch 16/60\n",
            "209/209 [==============================] - 1s 3ms/step - loss: 0.4592 - accuracy: 0.7807\n",
            "Epoch 17/60\n",
            "209/209 [==============================] - 1s 3ms/step - loss: 0.4580 - accuracy: 0.7810\n",
            "Epoch 18/60\n",
            "209/209 [==============================] - 1s 4ms/step - loss: 0.4577 - accuracy: 0.7805\n",
            "Epoch 19/60\n",
            "209/209 [==============================] - 1s 4ms/step - loss: 0.4483 - accuracy: 0.7844\n",
            "Epoch 20/60\n",
            "209/209 [==============================] - 1s 4ms/step - loss: 0.4527 - accuracy: 0.7850\n",
            "Epoch 21/60\n",
            "209/209 [==============================] - 1s 4ms/step - loss: 0.4436 - accuracy: 0.7912\n",
            "Epoch 22/60\n",
            "209/209 [==============================] - 1s 4ms/step - loss: 0.4493 - accuracy: 0.7880\n",
            "Epoch 23/60\n",
            "209/209 [==============================] - 1s 4ms/step - loss: 0.4480 - accuracy: 0.7894\n",
            "Epoch 24/60\n",
            "209/209 [==============================] - 1s 4ms/step - loss: 0.4450 - accuracy: 0.7880\n",
            "Epoch 25/60\n",
            "209/209 [==============================] - 1s 4ms/step - loss: 0.4461 - accuracy: 0.7877\n",
            "Epoch 26/60\n",
            "209/209 [==============================] - 1s 4ms/step - loss: 0.4430 - accuracy: 0.7898\n",
            "Epoch 27/60\n",
            "209/209 [==============================] - 1s 3ms/step - loss: 0.4399 - accuracy: 0.7907\n",
            "Epoch 28/60\n",
            "209/209 [==============================] - 1s 3ms/step - loss: 0.4391 - accuracy: 0.7891\n",
            "Epoch 29/60\n",
            "209/209 [==============================] - 1s 4ms/step - loss: 0.4396 - accuracy: 0.7897\n",
            "Epoch 30/60\n",
            "209/209 [==============================] - 1s 3ms/step - loss: 0.4356 - accuracy: 0.7918\n",
            "Epoch 31/60\n",
            "209/209 [==============================] - 0s 2ms/step - loss: 0.4356 - accuracy: 0.7996\n",
            "Epoch 32/60\n",
            "209/209 [==============================] - 0s 2ms/step - loss: 0.4359 - accuracy: 0.7901\n",
            "Epoch 33/60\n",
            "209/209 [==============================] - 1s 2ms/step - loss: 0.4338 - accuracy: 0.7934\n",
            "Epoch 34/60\n",
            "209/209 [==============================] - 0s 2ms/step - loss: 0.4257 - accuracy: 0.7946\n",
            "Epoch 35/60\n",
            "209/209 [==============================] - 0s 2ms/step - loss: 0.4341 - accuracy: 0.7913\n",
            "Epoch 36/60\n",
            "209/209 [==============================] - 0s 2ms/step - loss: 0.4317 - accuracy: 0.7954\n",
            "Epoch 37/60\n",
            "209/209 [==============================] - 1s 2ms/step - loss: 0.4297 - accuracy: 0.7954\n",
            "Epoch 38/60\n",
            "209/209 [==============================] - 1s 2ms/step - loss: 0.4287 - accuracy: 0.7987\n",
            "Epoch 39/60\n",
            "209/209 [==============================] - 1s 2ms/step - loss: 0.4328 - accuracy: 0.8019\n",
            "Epoch 40/60\n",
            "209/209 [==============================] - 0s 2ms/step - loss: 0.4282 - accuracy: 0.7958\n",
            "Epoch 41/60\n",
            "209/209 [==============================] - 1s 2ms/step - loss: 0.4310 - accuracy: 0.7958\n",
            "Epoch 42/60\n",
            "209/209 [==============================] - 0s 2ms/step - loss: 0.4268 - accuracy: 0.8013\n",
            "Epoch 43/60\n",
            "209/209 [==============================] - 0s 2ms/step - loss: 0.4268 - accuracy: 0.8009\n",
            "Epoch 44/60\n",
            "209/209 [==============================] - 0s 2ms/step - loss: 0.4228 - accuracy: 0.8006\n",
            "Epoch 45/60\n",
            "209/209 [==============================] - 0s 2ms/step - loss: 0.4245 - accuracy: 0.8004\n",
            "Epoch 46/60\n",
            "209/209 [==============================] - 1s 2ms/step - loss: 0.4230 - accuracy: 0.8030\n",
            "Epoch 47/60\n",
            "209/209 [==============================] - 0s 2ms/step - loss: 0.4264 - accuracy: 0.8009\n",
            "Epoch 48/60\n",
            "209/209 [==============================] - 0s 2ms/step - loss: 0.4219 - accuracy: 0.8012\n",
            "Epoch 49/60\n",
            "209/209 [==============================] - 1s 2ms/step - loss: 0.4203 - accuracy: 0.8069\n",
            "Epoch 50/60\n",
            "209/209 [==============================] - 1s 3ms/step - loss: 0.4265 - accuracy: 0.7966\n",
            "Epoch 51/60\n",
            "209/209 [==============================] - 1s 4ms/step - loss: 0.4197 - accuracy: 0.8073\n",
            "Epoch 52/60\n",
            "209/209 [==============================] - 1s 4ms/step - loss: 0.4226 - accuracy: 0.7973\n",
            "Epoch 53/60\n",
            "209/209 [==============================] - 1s 4ms/step - loss: 0.4223 - accuracy: 0.7996\n",
            "Epoch 54/60\n",
            "209/209 [==============================] - 1s 4ms/step - loss: 0.4219 - accuracy: 0.8015\n",
            "Epoch 55/60\n",
            "209/209 [==============================] - 1s 4ms/step - loss: 0.4194 - accuracy: 0.8022\n",
            "Epoch 56/60\n",
            "209/209 [==============================] - 1s 3ms/step - loss: 0.4218 - accuracy: 0.7988\n",
            "Epoch 57/60\n",
            "209/209 [==============================] - 0s 2ms/step - loss: 0.4117 - accuracy: 0.8082\n",
            "Epoch 58/60\n",
            "209/209 [==============================] - 1s 3ms/step - loss: 0.4141 - accuracy: 0.8066\n",
            "Epoch 59/60\n",
            "209/209 [==============================] - 0s 2ms/step - loss: 0.4167 - accuracy: 0.7997\n",
            "Epoch 60/60\n",
            "209/209 [==============================] - 1s 3ms/step - loss: 0.4242 - accuracy: 0.8054\n"
          ]
        },
        {
          "output_type": "execute_result",
          "data": {
            "text/plain": [
              "<keras.callbacks.History at 0x7f5720f1f9a0>"
            ]
          },
          "metadata": {},
          "execution_count": 49
        }
      ]
    },
    {
      "cell_type": "code",
      "source": [
        "churn_model.evaluate(X_test,y_test)"
      ],
      "metadata": {
        "colab": {
          "base_uri": "https://localhost:8080/"
        },
        "id": "W5vD0nb3zvWM",
        "outputId": "d071a93a-0788-4261-ce92-84b659cd741c"
      },
      "execution_count": 50,
      "outputs": [
        {
          "output_type": "stream",
          "name": "stdout",
          "text": [
            "70/70 [==============================] - 0s 2ms/step - loss: 0.4960 - accuracy: 0.7646\n"
          ]
        },
        {
          "output_type": "execute_result",
          "data": {
            "text/plain": [
              "[0.49599653482437134, 0.7646001577377319]"
            ]
          },
          "metadata": {},
          "execution_count": 50
        }
      ]
    },
    {
      "cell_type": "code",
      "source": [
        "len(y_test)"
      ],
      "metadata": {
        "colab": {
          "base_uri": "https://localhost:8080/"
        },
        "id": "IrLZM2XQ2Gt3",
        "outputId": "910be626-a77e-4b66-f5a2-78268de204f8"
      },
      "execution_count": 34,
      "outputs": [
        {
          "output_type": "execute_result",
          "data": {
            "text/plain": [
              "2226"
            ]
          },
          "metadata": {},
          "execution_count": 34
        }
      ]
    },
    {
      "cell_type": "code",
      "source": [
        "y_pred = churn_model.predict(X_test)"
      ],
      "metadata": {
        "colab": {
          "base_uri": "https://localhost:8080/"
        },
        "id": "EZbRdSVG1Y0r",
        "outputId": "308adae9-dca9-439f-f7d1-46e999d42bae"
      },
      "execution_count": 44,
      "outputs": [
        {
          "output_type": "stream",
          "name": "stdout",
          "text": [
            "70/70 [==============================] - 0s 3ms/step\n"
          ]
        }
      ]
    },
    {
      "cell_type": "code",
      "source": [
        "y_pred"
      ],
      "metadata": {
        "colab": {
          "base_uri": "https://localhost:8080/"
        },
        "id": "zQGvAALD1hEp",
        "outputId": "d4438a9e-f7b0-460d-ebf3-ebc244398d95"
      },
      "execution_count": 36,
      "outputs": [
        {
          "output_type": "execute_result",
          "data": {
            "text/plain": [
              "array([[0.76635927],\n",
              "       [0.43183422],\n",
              "       [0.60845345],\n",
              "       ...,\n",
              "       [0.7821336 ],\n",
              "       [0.6963753 ],\n",
              "       [0.02550518]], dtype=float32)"
            ]
          },
          "metadata": {},
          "execution_count": 36
        }
      ]
    },
    {
      "cell_type": "code",
      "source": [
        "y_pred = np.around(y_pred)"
      ],
      "metadata": {
        "id": "KJSZzQW01jRX"
      },
      "execution_count": 45,
      "outputs": []
    },
    {
      "cell_type": "code",
      "source": [
        "from sklearn.metrics import confusion_matrix , classification_report\n",
        "\n",
        "print(classification_report(y_test, y_pred))"
      ],
      "metadata": {
        "colab": {
          "base_uri": "https://localhost:8080/"
        },
        "id": "bInZsTwM1X3P",
        "outputId": "b66c347a-da61-4ec1-abd9-a86a49217ff9"
      },
      "execution_count": 51,
      "outputs": [
        {
          "output_type": "stream",
          "name": "stdout",
          "text": [
            "              precision    recall  f1-score   support\n",
            "\n",
            "           0       0.80      0.81      0.80      1305\n",
            "           1       0.72      0.71      0.72       921\n",
            "\n",
            "    accuracy                           0.77      2226\n",
            "   macro avg       0.76      0.76      0.76      2226\n",
            "weighted avg       0.77      0.77      0.77      2226\n",
            "\n"
          ]
        }
      ]
    }
  ]
}