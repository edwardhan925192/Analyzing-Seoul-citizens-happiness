{
  "nbformat": 4,
  "nbformat_minor": 0,
  "metadata": {
    "colab": {
      "provenance": [],
      "mount_file_id": "1WS6K_u5XweGnNaZY-2xIg9V3M3aQWKZM",
      "authorship_tag": "ABX9TyP5NJYNgxeTg4CRdyIXw/Ay",
      "include_colab_link": true
    },
    "kernelspec": {
      "name": "python3",
      "display_name": "Python 3"
    },
    "language_info": {
      "name": "python"
    }
  },
  "cells": [
    {
      "cell_type": "markdown",
      "metadata": {
        "id": "view-in-github",
        "colab_type": "text"
      },
      "source": [
        "<a href=\"https://colab.research.google.com/github/edwardhan925192/Python_grammar/blob/main/Team%20project%201/ANN%20model/ANN_model2.ipynb\" target=\"_parent\"><img src=\"https://colab.research.google.com/assets/colab-badge.svg\" alt=\"Open In Colab\"/></a>"
      ]
    },
    {
      "cell_type": "code",
      "execution_count": 21,
      "metadata": {
        "id": "K22PVKF-1UZL"
      },
      "outputs": [],
      "source": [
        "\n",
        "import numpy as np\n",
        "import pandas as pd\n",
        "import tensorflow as tf\n",
        "from tensorflow import keras\n",
        "import matplotlib.pyplot as plt\n",
        "%matplotlib inline"
      ]
    },
    {
      "cell_type": "code",
      "source": [
        "df = pd.read_csv('/content/drive/MyDrive/data/행복도 데이터/newest_seoulsurvey.csv')"
      ],
      "metadata": {
        "id": "h1TkgfEH4hOb"
      },
      "execution_count": 22,
      "outputs": []
    },
    {
      "cell_type": "code",
      "source": [
        "def categorize (x):\n",
        "  if x in range(0,4):\n",
        "    return 0\n",
        "  elif x in range(4,8):\n",
        "    return 1\n",
        "  else: \n",
        "    return 2 "
      ],
      "metadata": {
        "id": "2Q8B3Ekm4pgU"
      },
      "execution_count": 23,
      "outputs": []
    },
    {
      "cell_type": "code",
      "source": [
        "df['행복범위(사회)'] = df['행복지수(사회생활)'].apply(categorize)"
      ],
      "metadata": {
        "id": "wZBvxtSt1gC8"
      },
      "execution_count": 24,
      "outputs": []
    },
    {
      "cell_type": "code",
      "source": [
        "df.columns"
      ],
      "metadata": {
        "colab": {
          "base_uri": "https://localhost:8080/"
        },
        "id": "jiugwSCK_iSu",
        "outputId": "9a8128a9-9ccb-47e8-94f6-3b7e3310d9bd"
      },
      "execution_count": 46,
      "outputs": [
        {
          "output_type": "execute_result",
          "data": {
            "text/plain": [
              "Index(['종교', '출생년도', '직업', '통근/여부', '구코드', '미세먼지', '종교.1', '혼인상태', '학력', '성별',\n",
              "       '졸업상태', '노후생활자금', '가구주와의관계', '신뢰가족', '택시이용만족도', '교통이용만족도지하철',\n",
              "       '통근/통학환경만족도', '문화활동_연간방문횟수스포츠', '스트레스', '신뢰가족.1', '신뢰친구', '신뢰이웃',\n",
              "       '아이가장애와어울리는것', '가족관신뢰', '행복지수(건강)', '행복지수(재정)', '행복지수(가족관계)',\n",
              "       '행복지수(가정생활)', '행복지수(사회생활)', '직업만족도', '월평균근로소득', '혼인상태.1', 'year', '구',\n",
              "       '행복범위(사회)'],\n",
              "      dtype='object')"
            ]
          },
          "metadata": {},
          "execution_count": 46
        }
      ]
    },
    {
      "cell_type": "code",
      "source": [
        "model_parameters = df[['종교', '직업', '통근/여부', '구코드', '미세먼지', '종교.1', '혼인상태', '학력', '성별',\n",
        "       '졸업상태', '노후생활자금', '가구주와의관계', '신뢰가족', '택시이용만족도', '교통이용만족도지하철',\n",
        "       '통근/통학환경만족도', '문화활동_연간방문횟수스포츠', '스트레스', '신뢰가족.1', '신뢰친구', '신뢰이웃',\n",
        "       '아이가장애와어울리는것', '가족관신뢰','행복지수(건강)', '행복지수(재정)', '행복지수(가족관계)',\n",
        "       '행복지수(가정생활)','직업만족도', '월평균근로소득','행복범위(사회)']]"
      ],
      "metadata": {
        "id": "8JO7nuxl4uu9"
      },
      "execution_count": 52,
      "outputs": []
    },
    {
      "cell_type": "code",
      "source": [
        "from sklearn.model_selection import train_test_split"
      ],
      "metadata": {
        "id": "tTie7z3S5XdZ"
      },
      "execution_count": 26,
      "outputs": []
    },
    {
      "cell_type": "code",
      "source": [
        "model_parameters.drop(model_parameters[model_parameters.isna().any(axis = 1)].index,inplace = True)"
      ],
      "metadata": {
        "id": "mXS4Awot5jHN"
      },
      "execution_count": null,
      "outputs": []
    },
    {
      "cell_type": "code",
      "source": [
        "model_parameters['행복범위(사회)'].apply(categorize)"
      ],
      "metadata": {
        "id": "g8KAzN7d6WfW"
      },
      "execution_count": null,
      "outputs": []
    },
    {
      "cell_type": "code",
      "source": [
        "y = model_parameters['행복범위(사회)']\n",
        "X = model_parameters.drop('행복범위(사회)',axis = 1)"
      ],
      "metadata": {
        "id": "tvBZupvG5UBa"
      },
      "execution_count": 55,
      "outputs": []
    },
    {
      "cell_type": "code",
      "source": [
        "X_train, X_test, y_train, y_test = train_test_split(X, y, random_state=0)"
      ],
      "metadata": {
        "id": "5cHPu42a6vGx"
      },
      "execution_count": 56,
      "outputs": []
    },
    {
      "cell_type": "code",
      "source": [
        "X_train"
      ],
      "metadata": {
        "id": "hoydzzHJBDKW"
      },
      "execution_count": null,
      "outputs": []
    },
    {
      "cell_type": "code",
      "source": [
        "model = keras.Sequential([\n",
        "    keras.layers.Dense(40, input_shape=(29,), activation='relu'),\n",
        "    keras.layers.Dense(3, activation='sigmoid')\n",
        "    \n",
        "])\n",
        "model.compile(keras.optimizers.Adam(learning_rate=0.005),\n",
        "              loss=tf.keras.losses.SparseCategoricalCrossentropy(),\n",
        "              metrics=['accuracy'])\n",
        "\n",
        "print(\"Length of X_train:\", len(X_train))\n",
        "model.fit(X_train, y_train, epochs=7)"
      ],
      "metadata": {
        "colab": {
          "base_uri": "https://localhost:8080/"
        },
        "id": "wyDLl6y661-F",
        "outputId": "81b5cd99-1359-4f5c-bdc6-67f34d0fd2b9"
      },
      "execution_count": 66,
      "outputs": [
        {
          "output_type": "stream",
          "name": "stdout",
          "text": [
            "Length of X_train: 95389\n",
            "Epoch 1/7\n",
            "2981/2981 [==============================] - 7s 2ms/step - loss: 0.9742 - accuracy: 0.6436\n",
            "Epoch 2/7\n",
            "2981/2981 [==============================] - 5s 2ms/step - loss: 0.7091 - accuracy: 0.6761\n",
            "Epoch 3/7\n",
            "2981/2981 [==============================] - 5s 2ms/step - loss: 0.6404 - accuracy: 0.6935\n",
            "Epoch 4/7\n",
            "2981/2981 [==============================] - 6s 2ms/step - loss: 0.5929 - accuracy: 0.7131\n",
            "Epoch 5/7\n",
            "2981/2981 [==============================] - 5s 2ms/step - loss: 0.5823 - accuracy: 0.7180\n",
            "Epoch 6/7\n",
            "2981/2981 [==============================] - 6s 2ms/step - loss: 0.5765 - accuracy: 0.7223\n",
            "Epoch 7/7\n",
            "2981/2981 [==============================] - 5s 2ms/step - loss: 0.5704 - accuracy: 0.7273\n"
          ]
        },
        {
          "output_type": "execute_result",
          "data": {
            "text/plain": [
              "<keras.callbacks.History at 0x7feb61ba2fd0>"
            ]
          },
          "metadata": {},
          "execution_count": 66
        }
      ]
    },
    {
      "cell_type": "code",
      "source": [
        "model.save('happiness.h5')"
      ],
      "metadata": {
        "id": "6kfM5DApEn6a"
      },
      "execution_count": 68,
      "outputs": []
    },
    {
      "cell_type": "code",
      "source": [
        "model.evaluate(X_test, y_test)"
      ],
      "metadata": {
        "colab": {
          "base_uri": "https://localhost:8080/"
        },
        "id": "G9k0jJ8U9bNk",
        "outputId": "853c1e3a-9278-4208-f712-a0c5f31eea12"
      },
      "execution_count": 67,
      "outputs": [
        {
          "output_type": "stream",
          "name": "stdout",
          "text": [
            "994/994 [==============================] - 2s 1ms/step - loss: 0.5700 - accuracy: 0.7243\n"
          ]
        },
        {
          "output_type": "execute_result",
          "data": {
            "text/plain": [
              "[0.5700364112854004, 0.7242507338523865]"
            ]
          },
          "metadata": {},
          "execution_count": 67
        }
      ]
    }
  ]
}