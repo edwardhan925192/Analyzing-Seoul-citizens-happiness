{
  "nbformat": 4,
  "nbformat_minor": 0,
  "metadata": {
    "colab": {
      "provenance": [],
      "mount_file_id": "1G8nzqqm0WvyVZUmp63W_ptvUVNHwh0ob",
      "authorship_tag": "ABX9TyMXMmzZ4ivY9DEjz1A/cv+c",
      "include_colab_link": true
    },
    "kernelspec": {
      "name": "python3",
      "display_name": "Python 3"
    },
    "language_info": {
      "name": "python"
    }
  },
  "cells": [
    {
      "cell_type": "markdown",
      "metadata": {
        "id": "view-in-github",
        "colab_type": "text"
      },
      "source": [
        "<a href=\"https://colab.research.google.com/github/edwardhan925192/Python_grammar/blob/main/Team%20project%201/ANN%20model/happiness_ANN.ipynb\" target=\"_parent\"><img src=\"https://colab.research.google.com/assets/colab-badge.svg\" alt=\"Open In Colab\"/></a>"
      ]
    },
    {
      "cell_type": "code",
      "execution_count": 11,
      "metadata": {
        "id": "Z3sj5jHMrQFH"
      },
      "outputs": [],
      "source": [
        "import numpy as np \n",
        "import pandas as pd \n",
        "import tensorflow as tf\n",
        "from tensorflow import keras\n",
        "import matplotlib.pyplot as plt\n",
        "%matplotlib inline"
      ]
    },
    {
      "cell_type": "code",
      "source": [
        "df = pd.read_csv('/content/drive/MyDrive/data/행복도 데이터/seoulsurvey_newest.csv')"
      ],
      "metadata": {
        "id": "OPpFCjZj3w9L"
      },
      "execution_count": 2,
      "outputs": []
    },
    {
      "cell_type": "markdown",
      "source": [
        "#행복도 3가지로 구분시키기"
      ],
      "metadata": {
        "id": "MUHh9R1B35-O"
      }
    },
    {
      "cell_type": "code",
      "source": [
        "df['행복범위(사회)'] = df['행복지수(사회생활) '].apply(categorize)"
      ],
      "metadata": {
        "id": "3r4h-uq338OR"
      },
      "execution_count": 31,
      "outputs": []
    },
    {
      "cell_type": "code",
      "source": [
        "def categorize (x):\n",
        "  if x in range(0,4):\n",
        "    return 0\n",
        "  elif x in range(4,8):\n",
        "    return 1\n",
        "  else: \n",
        "    return 2 \n",
        "  "
      ],
      "metadata": {
        "id": "9A7SmNOK4UAH"
      },
      "execution_count": 30,
      "outputs": []
    },
    {
      "cell_type": "code",
      "source": [
        "model_parameters = df[['종교 ','직업','학력','직업만족도 ', '월평균 근로소득 ' ,'가족관 신뢰 ','교통 이용 만족도 지하철','신뢰 친구 ','혼인상태','행복범위(사회)']]"
      ],
      "metadata": {
        "id": "3DmCVm7t6cT4"
      },
      "execution_count": 32,
      "outputs": []
    },
    {
      "cell_type": "code",
      "source": [
        "model_parameters.drop(model_parameters[ model_parameters.isna().any(axis =1 )].index,axis = 0,inplace = True)"
      ],
      "metadata": {
        "id": "YwvfaPx66R-1"
      },
      "execution_count": null,
      "outputs": []
    },
    {
      "cell_type": "code",
      "source": [
        "model_parameters.reset_index(drop = True, inplace = True)"
      ],
      "metadata": {
        "id": "KpC3wUtn78PO"
      },
      "execution_count": 34,
      "outputs": []
    },
    {
      "cell_type": "markdown",
      "source": [
        "#Test data, Train data 분류"
      ],
      "metadata": {
        "id": "Wmpejp2K887d"
      }
    },
    {
      "cell_type": "code",
      "source": [
        "from sklearn.model_selection import train_test_split"
      ],
      "metadata": {
        "id": "1SdP1DpL8ckH"
      },
      "execution_count": 23,
      "outputs": []
    },
    {
      "cell_type": "code",
      "source": [
        "y = model_parameters['행복범위(사회)']\n",
        "X = model_parameters.drop('행복범위(사회)',axis = 1)"
      ],
      "metadata": {
        "id": "X2d0PqD59F3M"
      },
      "execution_count": 35,
      "outputs": []
    },
    {
      "cell_type": "code",
      "source": [
        "X_train, X_test, y_train, y_test = train_test_split(X, y, random_state=0)"
      ],
      "metadata": {
        "id": "LhH7PD189BU6"
      },
      "execution_count": 36,
      "outputs": []
    },
    {
      "cell_type": "code",
      "source": [
        "from keras.callbacks import Callback\n",
        "\n",
        "class PrintAccuracyCallback(Callback):\n",
        "    def on_epoch_end(self, epoch, logs={}):\n",
        "        print(\"Accuracy: {:.2f}%\".format(logs[\"accuracy\"] * 100))\n",
        "\n"
      ],
      "metadata": {
        "id": "MAjvuLK89-Xd"
      },
      "execution_count": 28,
      "outputs": []
    },
    {
      "cell_type": "markdown",
      "source": [
        "#Model training"
      ],
      "metadata": {
        "id": "cL0V8w8d_Ok4"
      }
    },
    {
      "cell_type": "code",
      "source": [
        "model = keras.Sequential([\n",
        "    keras.layers.Dense(30, input_shape=(9,), activation='relu'),\n",
        "    keras.layers.Dense(3, activation='sigmoid')\n",
        "    \n",
        "])\n",
        "\n",
        "# opt = keras.optimizers.Adam(learning_rate=0.01)\n",
        "\n",
        "model.compile(optimizer='adam',\n",
        "              loss=tf.keras.losses.SparseCategoricalCrossentropy(from_logits=True),\n",
        "              metrics=['accuracy'])\n",
        "\n",
        "model.fit(X_train, y_train, epochs=10, callbacks=[PrintAccuracyCallback()])"
      ],
      "metadata": {
        "colab": {
          "base_uri": "https://localhost:8080/"
        },
        "id": "W_pwZhAo5KJD",
        "outputId": "fb769bd4-7bb5-4dd3-850c-cf1a9ca8d55f"
      },
      "execution_count": 37,
      "outputs": [
        {
          "output_type": "stream",
          "name": "stdout",
          "text": [
            "Epoch 1/10\n"
          ]
        },
        {
          "output_type": "stream",
          "name": "stderr",
          "text": [
            "/usr/local/lib/python3.9/dist-packages/keras/backend.py:5612: UserWarning: \"`sparse_categorical_crossentropy` received `from_logits=True`, but the `output` argument was produced by a Softmax activation and thus does not represent logits. Was this intended?\n",
            "  output, from_logits = _get_logits(\n"
          ]
        },
        {
          "output_type": "stream",
          "name": "stdout",
          "text": [
            "3088/3098 [============================>.] - ETA: 0s - loss: 0.7498 - accuracy: 0.6315Accuracy: 63.14%\n",
            "3098/3098 [==============================] - 6s 2ms/step - loss: 0.7498 - accuracy: 0.6314\n",
            "Epoch 2/10\n",
            "3074/3098 [============================>.] - ETA: 0s - loss: 0.7317 - accuracy: 0.6353Accuracy: 63.54%\n",
            "3098/3098 [==============================] - 7s 2ms/step - loss: 0.7316 - accuracy: 0.6354\n",
            "Epoch 3/10\n",
            "3084/3098 [============================>.] - ETA: 0s - loss: 0.7271 - accuracy: 0.6379Accuracy: 63.79%\n",
            "3098/3098 [==============================] - 5s 2ms/step - loss: 0.7272 - accuracy: 0.6379\n",
            "Epoch 4/10\n",
            "3079/3098 [============================>.] - ETA: 0s - loss: 0.7243 - accuracy: 0.6401Accuracy: 64.01%\n",
            "3098/3098 [==============================] - 6s 2ms/step - loss: 0.7245 - accuracy: 0.6401\n",
            "Epoch 5/10\n",
            "3090/3098 [============================>.] - ETA: 0s - loss: 0.7225 - accuracy: 0.6414Accuracy: 64.14%\n",
            "3098/3098 [==============================] - 6s 2ms/step - loss: 0.7225 - accuracy: 0.6414\n",
            "Epoch 6/10\n",
            "3093/3098 [============================>.] - ETA: 0s - loss: 0.7215 - accuracy: 0.6408Accuracy: 64.09%\n",
            "3098/3098 [==============================] - 5s 2ms/step - loss: 0.7216 - accuracy: 0.6409\n",
            "Epoch 7/10\n",
            "3080/3098 [============================>.] - ETA: 0s - loss: 0.7204 - accuracy: 0.6412Accuracy: 64.12%\n",
            "3098/3098 [==============================] - 7s 2ms/step - loss: 0.7206 - accuracy: 0.6412\n",
            "Epoch 8/10\n",
            "3074/3098 [============================>.] - ETA: 0s - loss: 0.7202 - accuracy: 0.6426Accuracy: 64.28%\n",
            "3098/3098 [==============================] - 5s 2ms/step - loss: 0.7200 - accuracy: 0.6428\n",
            "Epoch 9/10\n",
            "3085/3098 [============================>.] - ETA: 0s - loss: 0.7190 - accuracy: 0.6432Accuracy: 64.30%\n",
            "3098/3098 [==============================] - 6s 2ms/step - loss: 0.7193 - accuracy: 0.6430\n",
            "Epoch 10/10\n",
            "3075/3098 [============================>.] - ETA: 0s - loss: 0.7188 - accuracy: 0.6434Accuracy: 64.33%\n",
            "3098/3098 [==============================] - 6s 2ms/step - loss: 0.7189 - accuracy: 0.6433\n"
          ]
        },
        {
          "output_type": "execute_result",
          "data": {
            "text/plain": [
              "<keras.callbacks.History at 0x7fda288b4f10>"
            ]
          },
          "metadata": {},
          "execution_count": 37
        }
      ]
    },
    {
      "cell_type": "markdown",
      "source": [
        "#결과 예측 "
      ],
      "metadata": {
        "id": "51FIwzlV_U7s"
      }
    },
    {
      "cell_type": "code",
      "source": [
        "model.evaluate(X_test,y_test)"
      ],
      "metadata": {
        "colab": {
          "base_uri": "https://localhost:8080/"
        },
        "id": "sj4BYIsb-_zq",
        "outputId": "44641b0d-1b89-44a5-c682-05291435735f"
      },
      "execution_count": 38,
      "outputs": [
        {
          "output_type": "stream",
          "name": "stdout",
          "text": [
            "  67/1033 [>.............................] - ETA: 1s - loss: 0.7223 - accuracy: 0.6348"
          ]
        },
        {
          "output_type": "stream",
          "name": "stderr",
          "text": [
            "/usr/local/lib/python3.9/dist-packages/keras/backend.py:5612: UserWarning: \"`sparse_categorical_crossentropy` received `from_logits=True`, but the `output` argument was produced by a Softmax activation and thus does not represent logits. Was this intended?\n",
            "  output, from_logits = _get_logits(\n"
          ]
        },
        {
          "output_type": "stream",
          "name": "stdout",
          "text": [
            "1033/1033 [==============================] - 2s 1ms/step - loss: 0.7241 - accuracy: 0.6408\n"
          ]
        },
        {
          "output_type": "execute_result",
          "data": {
            "text/plain": [
              "[0.7241066098213196, 0.640785813331604]"
            ]
          },
          "metadata": {},
          "execution_count": 38
        }
      ]
    },
    {
      "cell_type": "code",
      "source": [
        "yp = model.predict(X_test)"
      ],
      "metadata": {
        "colab": {
          "base_uri": "https://localhost:8080/"
        },
        "id": "lepej1FoAq_k",
        "outputId": "7d1124f8-000f-4586-bbe3-0c49fc6434b1"
      },
      "execution_count": 39,
      "outputs": [
        {
          "output_type": "stream",
          "name": "stdout",
          "text": [
            "1033/1033 [==============================] - 1s 1ms/step\n"
          ]
        }
      ]
    },
    {
      "cell_type": "code",
      "source": [
        "y_pred =[]\n",
        "for i in yp:\n",
        "  y_pred.append(np.argmax(i))"
      ],
      "metadata": {
        "id": "aDPbHDN0Aw0U"
      },
      "execution_count": 44,
      "outputs": []
    },
    {
      "cell_type": "code",
      "source": [
        "import seaborn as sn\n",
        "cm = tf.math.confusion_matrix(labels=y_test,predictions=y_pred)\n",
        "\n",
        "plt.figure(figsize = (10,7))\n",
        "sn.heatmap(cm, annot=True, fmt='d')\n",
        "plt.xlabel('Predicted')\n",
        "plt.ylabel('Truth')"
      ],
      "metadata": {
        "colab": {
          "base_uri": "https://localhost:8080/",
          "height": 636
        },
        "id": "quDyca5aBOYc",
        "outputId": "d2e8a988-6a79-433d-c745-e02c24a88758"
      },
      "execution_count": 45,
      "outputs": [
        {
          "output_type": "execute_result",
          "data": {
            "text/plain": [
              "Text(95.72222222222221, 0.5, 'Truth')"
            ]
          },
          "metadata": {},
          "execution_count": 45
        },
        {
          "output_type": "display_data",
          "data": {
            "text/plain": [
              "<Figure size 1000x700 with 2 Axes>"
            ],
            "image/png": "[encoded data removed]"
          },
          "metadata": {}
        }
      ]
    }
  ]
}