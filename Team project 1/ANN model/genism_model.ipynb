{
  "nbformat": 4,
  "nbformat_minor": 0,
  "metadata": {
    "colab": {
      "provenance": [],
      "mount_file_id": "1xF_h074kjWyGlQw8EmB3sTKtBCB0aYNM",
      "authorship_tag": "ABX9TyNVWtz36oL/c21iRtIehDq6",
      "include_colab_link": true
    },
    "kernelspec": {
      "name": "python3",
      "display_name": "Python 3"
    },
    "language_info": {
      "name": "python"
    }
  },
  "cells": [
    {
      "cell_type": "markdown",
      "metadata": {
        "id": "view-in-github",
        "colab_type": "text"
      },
      "source": [
        "<a href=\"https://colab.research.google.com/github/edwardhan925192/Python_grammar/blob/main/Team%20project%201/ANN%20model/genism_model.ipynb\" target=\"_parent\"><img src=\"https://colab.research.google.com/assets/colab-badge.svg\" alt=\"Open In Colab\"/></a>"
      ]
    },
    {
      "cell_type": "code",
      "source": [
        "import pandas as pd\n",
        "import numpy as np\n",
        "import gensim"
      ],
      "metadata": {
        "id": "4FTORCGDJJKg"
      },
      "execution_count": null,
      "outputs": []
    },
    {
      "cell_type": "code",
      "execution_count": null,
      "metadata": {
        "colab": {
          "base_uri": "https://localhost:8080/"
        },
        "id": "hiW1MEafHvI9",
        "outputId": "1016ce75-ac2c-452b-f9c0-9f5b84da96a4"
      },
      "outputs": [
        {
          "output_type": "stream",
          "name": "stdout",
          "text": [
            "/content/drive/MyDrive/MyLibrary\n"
          ]
        }
      ],
      "source": [
        "%cd '/content/drive/MyDrive/MyLibrary'"
      ]
    },
    {
      "cell_type": "code",
      "source": [
        "import navercrawl"
      ],
      "metadata": {
        "id": "Xm6xLj_PIFPp"
      },
      "execution_count": null,
      "outputs": []
    },
    {
      "cell_type": "code",
      "source": [
        "df4 = navercrawl.cafe_list(number_of_page= 10)"
      ],
      "metadata": {
        "colab": {
          "base_uri": "https://localhost:8080/"
        },
        "id": "J-0yTMf6PAWa",
        "outputId": "092c5abf-e34b-441b-e379-4cf9f230c4bd"
      },
      "execution_count": null,
      "outputs": [
        {
          "name": "stdout",
          "output_type": "stream",
          "text": [
            "검색어 : 종로구 행복\n"
          ]
        },
        {
          "output_type": "stream",
          "name": "stderr",
          "text": [
            "100%|██████████| 9/9 [00:12<00:00,  1.39s/it]\n"
          ]
        }
      ]
    },
    {
      "cell_type": "code",
      "source": [
        "navercrawl.korean_values_count(df4['description'])"
      ],
      "metadata": {
        "id": "q9jk93e9QI2O"
      },
      "execution_count": null,
      "outputs": []
    },
    {
      "cell_type": "markdown",
      "source": [
        "#단어들을 토큰형태로 만듬 \n",
        "  gensim.utils.simple_preprocess"
      ],
      "metadata": {
        "id": "oLcZQfdgRICh"
      }
    },
    {
      "cell_type": "code",
      "source": [
        "review_text = df['desc'].apply(gensim.utils.simple_preprocess)"
      ],
      "metadata": {
        "id": "-ai5EVgfM8e3"
      },
      "execution_count": null,
      "outputs": []
    },
    {
      "cell_type": "code",
      "source": [
        "model = gensim.models.Word2Vec(\n",
        "    window=10,\n",
        "    min_count=2,\n",
        "    workers=2\n",
        ")\n",
        "\n",
        "model.build_vocab(review_text, progress_per=1000)\n",
        "model.train(review_text, total_examples=model.corpus_count, epochs=model.epochs)"
      ],
      "metadata": {
        "id": "WbekgZa-Onr2"
      },
      "execution_count": null,
      "outputs": []
    },
    {
      "cell_type": "markdown",
      "source": [
        "#행복이라는 단어와 가장 비슷한 vector를 찾아보기"
      ],
      "metadata": {
        "id": "vUehrcSSRmYv"
      }
    },
    {
      "cell_type": "code",
      "source": [
        "model.wv.most_similar(\"행복\")"
      ],
      "metadata": {
        "colab": {
          "base_uri": "https://localhost:8080/"
        },
        "id": "edDUx-g9RQtw",
        "outputId": "9d598af0-c133-44fe-e128-f3407b297fa3"
      },
      "execution_count": null,
      "outputs": [
        {
          "output_type": "execute_result",
          "data": {
            "text/plain": [
              "[('농구를', 0.8517367243766785),\n",
              " ('활약', 0.83250892162323),\n",
              " ('창원', 0.8195153474807739),\n",
              " ('창원실내체육관에서', 0.8168169260025024),\n",
              " ('워니의', 0.8101102709770203),\n",
              " ('자밀', 0.7919511198997498),\n",
              " ('대가', 0.7711756825447083),\n",
              " ('희망도시', 0.7621923089027405),\n",
              " ('곳곳의', 0.752358615398407),\n",
              " ('사진광주시', 0.7498504519462585)]"
            ]
          },
          "metadata": {},
          "execution_count": 40
        }
      ]
    },
    {
      "cell_type": "code",
      "source": [
        "model.wv.most_similar(negative=\"행복\")"
      ],
      "metadata": {
        "colab": {
          "base_uri": "https://localhost:8080/"
        },
        "id": "Uy8bH4uJQ2r8",
        "outputId": "d3623ae9-179a-4f92-fa9f-a81026ebf70d"
      },
      "execution_count": null,
      "outputs": [
        {
          "output_type": "execute_result",
          "data": {
            "text/plain": [
              "[('제안정보공유와', 0.45272159576416016),\n",
              " ('정보', 0.4198598563671112),\n",
              " ('참여해', 0.4068358242511749),\n",
              " ('수돗물', 0.3938940465450287),\n",
              " ('봉사자들이', 0.39016246795654297),\n",
              " ('수록한', 0.3896539509296417),\n",
              " ('제공하는', 0.38949933648109436),\n",
              " ('수돗물에', 0.3860597312450409),\n",
              " ('머물렀다핀란드', 0.3840554654598236),\n",
              " ('차지했다', 0.3832801282405853)]"
            ]
          },
          "metadata": {},
          "execution_count": 39
        }
      ]
    },
    {
      "cell_type": "code",
      "source": [
        "df = navercrawl.news_list(number_of_page=100,sort_how='sim')"
      ],
      "metadata": {
        "colab": {
          "base_uri": "https://localhost:8080/"
        },
        "id": "mwyTTpO0IKMV",
        "outputId": "d515c64e-07d4-4d2d-dbcf-7d6b01ee7f93"
      },
      "execution_count": null,
      "outputs": [
        {
          "name": "stdout",
          "output_type": "stream",
          "text": [
            "검색어 : 행복 2022\n"
          ]
        },
        {
          "output_type": "stream",
          "name": "stderr",
          "text": [
            "100%|██████████| 99/99 [01:57<00:00,  1.18s/it]\n"
          ]
        }
      ]
    }
  ]
}