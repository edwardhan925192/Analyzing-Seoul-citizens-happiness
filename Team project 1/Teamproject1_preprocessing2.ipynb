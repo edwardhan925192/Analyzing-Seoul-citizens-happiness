{
  "nbformat": 4,
  "nbformat_minor": 0,
  "metadata": {
    "colab": {
      "provenance": [],
      "mount_file_id": "https://github.com/edwardhan925192/Python_grammar/blob/main/Team%20project%201/Teamproject1.ipynb",
      "authorship_tag": "ABX9TyMaApQZNTqd5kVLus6tvT+h"
    },
    "kernelspec": {
      "name": "python3",
      "display_name": "Python 3"
    },
    "language_info": {
      "name": "python"
    }
  },
  "cells": [
    {
      "cell_type": "code",
      "execution_count": 1,
      "metadata": {
        "id": "1F5agxDjO21v"
      },
      "outputs": [],
      "source": [
        "import numpy as np \n",
        "import pandas as pd"
      ]
    },
    {
      "cell_type": "code",
      "source": [
        "raw2018 = pd.read_excel('/content/drive/MyDrive/data/가구원 raw data/4. 2018 서베이 가구원(원시자료와 부호화 지침서).xlsx')\n",
        "raw2019 = pd.read_excel('/content/drive/MyDrive/data/가구원 raw data/5. 2019 서울서베이 가구원(원시자료와 부호화 지침서).xlsx')\n",
        "raw2020 = pd.read_excel('/content/drive/MyDrive/data/가구원 raw data/6. 2020 서울서베이 가구원(원시자료와 부호화 지침서).xlsx')\n",
        "raw2021 = pd.read_excel('/content/drive/MyDrive/data/가구원 raw data/2021년 서울서베이 가구원_데이터.xlsx')"
      ],
      "metadata": {
        "id": "EG8DPE4VgJi3"
      },
      "execution_count": 35,
      "outputs": []
    },
    {
      "cell_type": "code",
      "source": [
        "bupyo = pd.read_excel('./공통부표원.xlsx')"
      ],
      "metadata": {
        "id": "2dnPbj6NoE0r"
      },
      "execution_count": 40,
      "outputs": []
    },
    {
      "cell_type": "markdown",
      "source": [
        "#2018년 데이터 전처리"
      ],
      "metadata": {
        "id": "XHlbiCPrsjuR"
      }
    },
    {
      "cell_type": "code",
      "source": [
        "df_bupyo2018 = pd.DataFrame(bupyo2018)"
      ],
      "metadata": {
        "id": "q1FuT3Gdo2uU"
      },
      "execution_count": 53,
      "outputs": []
    },
    {
      "cell_type": "code",
      "source": [
        "df_bupyo2018.drop(19,axis = 0,inplace = True)"
      ],
      "metadata": {
        "id": "HLSez-RFp5rM"
      },
      "execution_count": 63,
      "outputs": []
    },
    {
      "cell_type": "code",
      "source": [
        "df_bupyo2018[0].replace({'AQ21':'SQ1_1'},inplace = True)"
      ],
      "metadata": {
        "id": "lr5SdoaEqc5O"
      },
      "execution_count": 65,
      "outputs": []
    },
    {
      "cell_type": "code",
      "source": [
        "df_bupyo2018[0] = df_bupyo2018[0].str.replace(' ','')"
      ],
      "metadata": {
        "id": "AQqkmJEYrPQy"
      },
      "execution_count": 75,
      "outputs": []
    },
    {
      "cell_type": "code",
      "source": [
        "bupyo2018 = (df_bupyo2018[0]).tolist()"
      ],
      "metadata": {
        "id": "hTjAlpeJoTWu"
      },
      "execution_count": 76,
      "outputs": []
    },
    {
      "cell_type": "code",
      "source": [
        "raw2018[bupyo2018].to_csv('processed2018.csv',index = False)"
      ],
      "metadata": {
        "id": "DVP_UMROnc7O"
      },
      "execution_count": 79,
      "outputs": []
    },
    {
      "cell_type": "markdown",
      "source": [
        "#2019년 데이터 전처리"
      ],
      "metadata": {
        "id": "UQsrkp67siRj"
      }
    },
    {
      "cell_type": "code",
      "source": [
        "df_bupyo2019 = pd.DataFrame(bupyo[2019])"
      ],
      "metadata": {
        "id": "fC1XF4uWsc-A"
      },
      "execution_count": 110,
      "outputs": []
    },
    {
      "cell_type": "code",
      "source": [
        "#공백처리\n",
        "df_bupyo2019[2019] = df_bupyo2019[2019].str.replace(' ','')"
      ],
      "metadata": {
        "id": "RBwKRwGys7fr"
      },
      "execution_count": 111,
      "outputs": []
    },
    {
      "cell_type": "code",
      "source": [
        "df_bupyo2019.drop(20,axis = 0,inplace = True)"
      ],
      "metadata": {
        "id": "KzTzXtXhtIXv"
      },
      "execution_count": 112,
      "outputs": []
    },
    {
      "cell_type": "code",
      "source": [
        "df_bupyo2019"
      ],
      "metadata": {
        "id": "u13QjYINu0B-"
      },
      "execution_count": null,
      "outputs": []
    },
    {
      "cell_type": "code",
      "source": [
        "bupyo2019 = df_bupyo2019[2019][1:].tolist()"
      ],
      "metadata": {
        "id": "UKSahFGCuuCE"
      },
      "execution_count": 116,
      "outputs": []
    },
    {
      "cell_type": "code",
      "source": [
        "raw2019[bupyo2019].to_csv('processed2019.csv',index = False)"
      ],
      "metadata": {
        "id": "yuIt9X-uupFx"
      },
      "execution_count": 118,
      "outputs": []
    },
    {
      "cell_type": "markdown",
      "source": [
        "#2020년 데이터 전처리 "
      ],
      "metadata": {
        "id": "37qp8C_AuM5Y"
      }
    },
    {
      "cell_type": "code",
      "source": [
        "df_bupyo2020 = pd.DataFrame(bupyo[2020])"
      ],
      "metadata": {
        "id": "hzUO3g5guOxr"
      },
      "execution_count": 102,
      "outputs": []
    },
    {
      "cell_type": "code",
      "source": [
        "#공백처리\n",
        "df_bupyo2020[2020] = df_bupyo2020[2020].str.replace(' ','')"
      ],
      "metadata": {
        "id": "b4GFQ5oouTE9"
      },
      "execution_count": 103,
      "outputs": []
    },
    {
      "cell_type": "code",
      "source": [
        "df_bupyo2020.drop(20,axis = 0,inplace = True)"
      ],
      "metadata": {
        "id": "F4zUi2DrufEZ"
      },
      "execution_count": 106,
      "outputs": []
    },
    {
      "cell_type": "code",
      "source": [
        "df_bupyo2020"
      ],
      "metadata": {
        "id": "wxWVxV-1vuJn"
      },
      "execution_count": null,
      "outputs": []
    },
    {
      "cell_type": "code",
      "source": [
        "bupyo2020 = df_bupyo2020[2020][1:].tolist()"
      ],
      "metadata": {
        "id": "im3cpzWwvkia"
      },
      "execution_count": 121,
      "outputs": []
    },
    {
      "cell_type": "code",
      "source": [
        "raw2020[bupyo2020].to_csv('processed2020.csv',index = False)"
      ],
      "metadata": {
        "id": "rc4zIEi7vsPj"
      },
      "execution_count": 122,
      "outputs": []
    },
    {
      "cell_type": "markdown",
      "source": [
        "#2021년 데이터 전처리 "
      ],
      "metadata": {
        "id": "_pcfPpuSv5h8"
      }
    },
    {
      "cell_type": "code",
      "source": [
        "df_bupyo2021 = pd.DataFrame(bupyo[2021])\n",
        "#공백처리\n",
        "df_bupyo2021[2021] = df_bupyo2021[2021].str.replace(' ','')\n",
        "df_bupyo2021.drop(20,axis = 0,inplace = True)\n",
        "bupyo2021 = df_bupyo2021[2021][1:].tolist()\n",
        "raw2021[bupyo2021].to_csv('processed2021.csv',index = False)"
      ],
      "metadata": {
        "id": "Q33tBzxYv7MN"
      },
      "execution_count": 123,
      "outputs": []
    }
  ]
}