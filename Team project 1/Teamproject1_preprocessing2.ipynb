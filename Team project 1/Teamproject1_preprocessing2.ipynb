{
  "nbformat": 4,
  "nbformat_minor": 0,
  "metadata": {
    "colab": {
      "provenance": [],
      "mount_file_id": "https://github.com/edwardhan925192/Python_grammar/blob/main/Team%20project%201/Teamproject1.ipynb",
      "authorship_tag": "ABX9TyPW7xA2KPpzb3dgnmrUfNbQ",
      "include_colab_link": true
    },
    "kernelspec": {
      "name": "python3",
      "display_name": "Python 3"
    },
    "language_info": {
      "name": "python"
    }
  },
  "cells": [
    {
      "cell_type": "markdown",
      "metadata": {
        "id": "view-in-github",
        "colab_type": "text"
      },
      "source": [
        "<a href=\"https://colab.research.google.com/github/edwardhan925192/Python_grammar/blob/main/Team%20project%201/Teamproject1_preprocessing2.ipynb\" target=\"_parent\"><img src=\"https://colab.research.google.com/assets/colab-badge.svg\" alt=\"Open In Colab\"/></a>"
      ]
    },
    {
      "cell_type": "code",
      "execution_count": 1,
      "metadata": {
        "id": "1F5agxDjO21v"
      },
      "outputs": [],
      "source": [
        "import numpy as np \n",
        "import pandas as pd"
      ]
    },
    {
      "cell_type": "code",
      "source": [
        "df2018 = pd.read_excel('/content/부표원 2018.xlsx',header = None)\n",
        "df2019 = pd.read_excel('/content/부표원 2019.xlsx',header = None)\n",
        "df2020 = pd.read_excel('/content/부표원 2020.xlsx',header = None)\n",
        "df2021 = pd.read_excel('/content/부표원 2021.xlsx',header = None)"
      ],
      "metadata": {
        "id": "4mXtWG7RaQ05"
      },
      "execution_count": 2,
      "outputs": []
    },
    {
      "cell_type": "code",
      "source": [
        "raw2018 = pd.read_excel('/content/drive/MyDrive/data/가구원 raw data/4. 2018 서베이 가구원(원시자료와 부호화 지침서).xlsx')\n",
        "raw2019 = pd.read_excel('/content/drive/MyDrive/data/가구원 raw data/5. 2019 서울서베이 가구원(원시자료와 부호화 지침서).xlsx')\n",
        "raw2020 = pd.read_excel('/content/drive/MyDrive/data/가구원 raw data/6. 2020 서울서베이 가구원(원시자료와 부호화 지침서).xlsx')\n",
        "raw2021 = pd.read_excel('/content/drive/MyDrive/data/가구원 raw data/2021년 서울서베이 가구원_데이터.xlsx')"
      ],
      "metadata": {
        "id": "EG8DPE4VgJi3"
      },
      "execution_count": 35,
      "outputs": []
    },
    {
      "cell_type": "markdown",
      "source": [
        "#2018년 데이터 전처리"
      ],
      "metadata": {
        "id": "XHlbiCPrsjuR"
      }
    },
    {
      "cell_type": "code",
      "source": [
        "df_bupyo2018 = pd.DataFrame(bupyo2018)"
      ],
      "metadata": {
        "id": "q1FuT3Gdo2uU"
      },
      "execution_count": 53,
      "outputs": []
    },
    {
      "cell_type": "code",
      "source": [
        "df_bupyo2018.drop(19,axis = 0,inplace = True)"
      ],
      "metadata": {
        "id": "HLSez-RFp5rM"
      },
      "execution_count": 63,
      "outputs": []
    },
    {
      "cell_type": "code",
      "source": [
        "df_bupyo2018[0].replace({'AQ21':'SQ1_1'},inplace = True)"
      ],
      "metadata": {
        "id": "lr5SdoaEqc5O"
      },
      "execution_count": 65,
      "outputs": []
    },
    {
      "cell_type": "code",
      "source": [
        "df_bupyo2018[0] = df_bupyo2018[0].str.replace(' ','')"
      ],
      "metadata": {
        "id": "AQqkmJEYrPQy"
      },
      "execution_count": 75,
      "outputs": []
    },
    {
      "cell_type": "code",
      "source": [
        "bupyo = pd.read_excel('./공통부표원.xlsx')"
      ],
      "metadata": {
        "id": "2dnPbj6NoE0r"
      },
      "execution_count": 40,
      "outputs": []
    },
    {
      "cell_type": "code",
      "source": [
        "bupyo2018 = (df_bupyo2018[0]).tolist()"
      ],
      "metadata": {
        "id": "hTjAlpeJoTWu"
      },
      "execution_count": 76,
      "outputs": []
    },
    {
      "cell_type": "code",
      "source": [
        "raw2018[bupyo2018].to_csv('processed2018.csv',index = False)"
      ],
      "metadata": {
        "id": "DVP_UMROnc7O"
      },
      "execution_count": 79,
      "outputs": []
    },
    {
      "cell_type": "markdown",
      "source": [
        "#2019년 데이터 전처리"
      ],
      "metadata": {
        "id": "UQsrkp67siRj"
      }
    },
    {
      "cell_type": "code",
      "source": [
        "df_bupyo2019 = pd.DataFrame(bupyo[2019])"
      ],
      "metadata": {
        "id": "fC1XF4uWsc-A"
      },
      "execution_count": 110,
      "outputs": []
    },
    {
      "cell_type": "code",
      "source": [
        "#공백처리\n",
        "df_bupyo2019[2019] = df_bupyo2019[2019].str.replace(' ','')"
      ],
      "metadata": {
        "id": "RBwKRwGys7fr"
      },
      "execution_count": 111,
      "outputs": []
    },
    {
      "cell_type": "code",
      "source": [
        "df_bupyo2019.drop(20,axis = 0,inplace = True)"
      ],
      "metadata": {
        "id": "KzTzXtXhtIXv"
      },
      "execution_count": 112,
      "outputs": []
    },
    {
      "cell_type": "code",
      "source": [
        "df_bupyo2019"
      ],
      "metadata": {
        "id": "u13QjYINu0B-"
      },
      "execution_count": null,
      "outputs": []
    },
    {
      "cell_type": "code",
      "source": [
        "bupyo2019 = df_bupyo2019[2019][1:].tolist()"
      ],
      "metadata": {
        "id": "UKSahFGCuuCE"
      },
      "execution_count": 116,
      "outputs": []
    },
    {
      "cell_type": "code",
      "source": [
        "raw2019[bupyo2019].to_csv('processed2019.csv',index = False)"
      ],
      "metadata": {
        "id": "yuIt9X-uupFx"
      },
      "execution_count": 118,
      "outputs": []
    },
    {
      "cell_type": "markdown",
      "source": [
        "#2020년 데이터 전처리 "
      ],
      "metadata": {
        "id": "37qp8C_AuM5Y"
      }
    },
    {
      "cell_type": "code",
      "source": [
        "df_bupyo2020 = pd.DataFrame(bupyo[2020])"
      ],
      "metadata": {
        "id": "hzUO3g5guOxr"
      },
      "execution_count": 102,
      "outputs": []
    },
    {
      "cell_type": "code",
      "source": [
        "#공백처리\n",
        "df_bupyo2020[2020] = df_bupyo2020[2020].str.replace(' ','')"
      ],
      "metadata": {
        "id": "b4GFQ5oouTE9"
      },
      "execution_count": 103,
      "outputs": []
    },
    {
      "cell_type": "code",
      "source": [
        "df_bupyo2020.drop(20,axis = 0,inplace = True)"
      ],
      "metadata": {
        "id": "F4zUi2DrufEZ"
      },
      "execution_count": 106,
      "outputs": []
    },
    {
      "cell_type": "code",
      "source": [
        "df_bupyo2020"
      ],
      "metadata": {
        "id": "wxWVxV-1vuJn"
      },
      "execution_count": null,
      "outputs": []
    },
    {
      "cell_type": "code",
      "source": [
        "bupyo2020 = df_bupyo2020[2020][1:].tolist()"
      ],
      "metadata": {
        "id": "im3cpzWwvkia"
      },
      "execution_count": 121,
      "outputs": []
    },
    {
      "cell_type": "code",
      "source": [
        "raw2020[bupyo2020].to_csv('processed2020.csv',index = False)"
      ],
      "metadata": {
        "id": "rc4zIEi7vsPj"
      },
      "execution_count": 122,
      "outputs": []
    },
    {
      "cell_type": "markdown",
      "source": [
        "#2021년 데이터 전처리 "
      ],
      "metadata": {
        "id": "_pcfPpuSv5h8"
      }
    },
    {
      "cell_type": "code",
      "source": [
        "df_bupyo2021 = pd.DataFrame(bupyo[2021])\n",
        "#공백처리\n",
        "df_bupyo2021[2021] = df_bupyo2021[2021].str.replace(' ','')\n",
        "df_bupyo2021.drop(20,axis = 0,inplace = True)\n",
        "bupyo2021 = df_bupyo2021[2021][1:].tolist()\n",
        "raw2021[bupyo2021].to_csv('processed2021.csv',index = False)"
      ],
      "metadata": {
        "id": "Q33tBzxYv7MN"
      },
      "execution_count": 123,
      "outputs": []
    },
    {
      "cell_type": "code",
      "source": [
        "pd.options.display.max_rows = 50\n"
      ],
      "metadata": {
        "id": "I01dvGgjhbfs"
      },
      "execution_count": 93,
      "outputs": []
    },
    {
      "cell_type": "code",
      "source": [
        "pd.options.display.max_columns = 50"
      ],
      "metadata": {
        "id": "mXmh4SjX1jl5"
      },
      "execution_count": 94,
      "outputs": []
    },
    {
      "cell_type": "code",
      "source": [
        "def find_word(name):\n",
        "  print(f'2018:{df2018[df2018[2].str.contains(name)].loc[:,[0,2,3]]}')\n",
        "  print('*'*100)\n",
        "  print(f'2019:{df2019[df2019[2].str.contains(name)].loc[:,[0,2,3]]}')\n",
        "  print('*'*100)\n",
        "  print(f'2020:{df2020[df2020[2].str.contains(name)].loc[:,[0,2,3]]}')  \n",
        "  print('*'*100)\n",
        "  print(f'2021:{df2021[df2021[2].str.contains(name)].loc[:,[0,2,3]]}')\n",
        "\n"
      ],
      "metadata": {
        "id": "sYRl4ubgoIUR"
      },
      "execution_count": 95,
      "outputs": []
    },
    {
      "cell_type": "markdown",
      "source": [
        "# 2018 ~ 2021까지 단어찾기 \n",
        "  find_word('string')"
      ],
      "metadata": {
        "id": "-I2onYd9xEMT"
      }
    },
    {
      "cell_type": "code",
      "source": [
        "find_word('가구')"
      ],
      "metadata": {
        "id": "BH9DNHLcsVcC",
        "outputId": "b8f10e3b-bcff-4645-827c-db3e9b4aa0c4",
        "colab": {
          "base_uri": "https://localhost:8080/"
        }
      },
      "execution_count": 60,
      "outputs": [
        {
          "output_type": "stream",
          "name": "stdout",
          "text": [
            "2018:        0                 2                                                  3\n",
            "12    INC         AQ1_총가구소득  1.50만원 미만\\n2.50˜100만원 미만\\n3.100˜150만원 미만\\n4.15...\n",
            "14  NUM_1           전체 가구원수                                                NaN\n",
            "15  fam15       15세 이상 가구원수                                                NaN\n",
            "18  SQ1_1  01-가구주) 가구주와의 관계  1.가구주\\n2.배우자\\n3.미혼 자녀\\n4.기혼자녀 및 그 배우자\\n5.손자녀 및...\n",
            "19  SQ1_2        01-가구주) 성별                                         1.남성\\n2.여성\n",
            "20  SQ1_3     01-가구주) 출생 년도                                                NaN\n",
            "21  SQ1_4      01-가구주) 혼인상태                 1.기혼\\n2.미혼\\n3.이혼\\n4.별거\\n5.사별\\n6.동거\n",
            "22  SQ1_5        01-가구주) 종교               1.개신교\\n2.불교\\n3.천주교\\n4.유교\\n5.기타\\n6.없다\n",
            "23  SQ1_6        01-가구주) 국적                                   1.대한민국\\n2.대한민국 외\n",
            "24  SQ1_7  01-가구주) 등록장애인 여부                                    1.장애인\\n2.장애인 아님\n",
            "25  SQ1_8      01-가구주) 면접여부  1.조사완료\\n2.단기 출장/부재\\n3.장기 출장/부재\\n4.타 지역거주\\n5.군입...\n",
            "27   ANUM             가구원코드                                                NaN\n",
            "****************************************************************************************************\n",
            "2019:         0                                                2  \\\n",
            "155    id2                                           가구원 ID   \n",
            "158  sq1_1                                         가구주와의 관계   \n",
            "165    aq1  AQ1. 귀댁의 지난 1년 동안 세금납부(공제)전의 월평균 총 가구소득은 얼마입니까?   \n",
            "\n",
            "                                                     3  \n",
            "155  가구ID+가구원순번(2자리)\\n가구원순번\\n01 가구주\\n02 가구원1\\n03 가구...  \n",
            "158  1.가구주\\n2.배우자\\n3.미혼 자녀\\n4.기혼자녀 및 그 배우자\\n5.손자녀 및...  \n",
            "165  1.50만원 미만\\n2.50˜100만원 미만\\n3.100˜150만원 미만\\n4.15...  \n",
            "****************************************************************************************************\n",
            "2020:       0                2                                                  3\n",
            "0     ID  가구주 - 가구원 연결 변수                                                NaN\n",
            "2  NUM_1           전체가구원수                                                NaN\n",
            "3  FAM15      만15세이상 가구원수                                                NaN\n",
            "6  SQ1_1         가구주와의 관계  1.가구주\\n2.배우자\\n3.미혼 자녀\\n4.기혼자녀 및 그 배우자\\n5.손자녀 및...\n",
            "****************************************************************************************************\n",
            "2021:       0                2                                                  3\n",
            "0     ID  가구주 - 가구원 연결 변수                                                NaN\n",
            "2   FAM1           전체가구원수                                                NaN\n",
            "3  FAM15      만15세이상 가구원수                                                NaN\n",
            "6  SQ1_1         가구주와의 관계  1.가구주\\n2.배우자\\n3.미혼 자녀\\n4.기혼자녀 및 그 배우자\\n5.손자녀 및...\n"
          ]
        }
      ]
    },
    {
      "cell_type": "code",
      "source": [
        "df2018[0] = df2018[0].apply(lambda x: x.upper())\n",
        "df2019[0] = df2019[0].apply(lambda x: x.upper())\n",
        "df2020[0] = df2020[0].apply(lambda x: x.upper())\n",
        "df2021[0] = df2021[0].apply(lambda x: x.upper())\n",
        "buho2018 = set(df2018[0])\n",
        "buho2019 = set(df2019[0])\n",
        "buho2020 = set(df2020[0])\n",
        "buho2021 = set(df2021[0])\n",
        "total_buho1 = buho2018.intersection(buho2019)\n",
        "total_buho1 = total_buho1.intersection(buho2020)\n",
        "total_buho1 = total_buho1.intersection(buho2021)\n"
      ],
      "metadata": {
        "id": "y0iQ6-XGgnB9"
      },
      "execution_count": null,
      "outputs": []
    },
    {
      "cell_type": "code",
      "source": [
        "total_buho1 = list(total_buho1)"
      ],
      "metadata": {
        "id": "DSXcd3wyhG-j"
      },
      "execution_count": null,
      "outputs": []
    },
    {
      "cell_type": "code",
      "source": [
        "df2021.set_index(0, inplace = True)"
      ],
      "metadata": {
        "id": "txqDihgAwK4N"
      },
      "execution_count": null,
      "outputs": []
    },
    {
      "cell_type": "markdown",
      "source": [
        "#2018 ~ 2021 다 포함이된 데이터프레임 \n",
        "#df_same_element"
      ],
      "metadata": {
        "id": "spGKELsRw4u-"
      }
    },
    {
      "cell_type": "code",
      "source": [
        "df_same_element = df2021.loc[total_buho1,:]"
      ],
      "metadata": {
        "id": "pHAqwnI0wnsy"
      },
      "execution_count": null,
      "outputs": []
    }
  ]
}