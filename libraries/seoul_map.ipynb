{
  "nbformat": 4,
  "nbformat_minor": 0,
  "metadata": {
    "colab": {
      "provenance": [],
      "mount_file_id": "18FatLvnYZR7O7ACAF_e_6r9wxC_YQ7rD",
      "authorship_tag": "ABX9TyM1T1cck5uAL3pneioAEylb",
      "include_colab_link": true
    },
    "kernelspec": {
      "name": "python3",
      "display_name": "Python 3"
    },
    "language_info": {
      "name": "python"
    }
  },
  "cells": [
    {
      "cell_type": "markdown",
      "metadata": {
        "id": "view-in-github",
        "colab_type": "text"
      },
      "source": [
        "<a href=\"https://colab.research.google.com/github/edwardhan925192/Python_grammar/blob/main/libraries/seoul_map.ipynb\" target=\"_parent\"><img src=\"https://colab.research.google.com/assets/colab-badge.svg\" alt=\"Open In Colab\"/></a>"
      ]
    },
    {
      "cell_type": "code",
      "source": [
        "%cd /content/drive/MyDrive/MyLibrary"
      ],
      "metadata": {
        "colab": {
          "base_uri": "https://localhost:8080/"
        },
        "id": "9psGl9uPEUYo",
        "outputId": "59b00748-2912-412c-f6af-d1bb91e2213a"
      },
      "execution_count": 2,
      "outputs": [
        {
          "output_type": "stream",
          "name": "stdout",
          "text": [
            "/content/drive/MyDrive/MyLibrary\n"
          ]
        }
      ]
    },
    {
      "cell_type": "code",
      "execution_count": 4,
      "metadata": {
        "colab": {
          "base_uri": "https://localhost:8080/"
        },
        "id": "u3DPGO8vCLi5",
        "outputId": "cf03b536-3661-4027-e9c6-fe2cdc1ea00a"
      },
      "outputs": [
        {
          "output_type": "stream",
          "name": "stdout",
          "text": [
            "Writing seoulmap.py\n"
          ]
        }
      ],
      "source": [
        "%%writefile seoulmap.py\n",
        "import pandas as pd \n",
        "import numpy as np \n",
        "import folium \n",
        "\n",
        "def thresh_hold(seoulhouse_price,house_col):\n",
        "  houseprice_scalelist = []\n",
        "  for col in house_col:\n",
        "    temp_list = []\n",
        "    temp = (seoulhouse_price[col].astype(float).max() - seoulhouse_price[col].astype(float).min()) / 5   \n",
        "    temp_list.append([seoulhouse_price[col].astype(float).min() + (temp * i)for i in range(0,7)])\n",
        "    houseprice_scalelist.append(temp_list)\n",
        "\n",
        "  return houseprice_scalelist\n",
        "\n",
        "def choropleth(geo_data,seoulhouse_price,col_name,thresh_list,map_name,color = 'OrRd'):  \n",
        "  folium.Choropleth(geo_data = geo_data,  # 지도 경계\n",
        "                    data = seoulhouse_price,    # 표시하려는 데이터\n",
        "                    columns=['구', col_name],  # 열 지정\n",
        "                    threshold_scale = thresh_list,\n",
        "                    key_on = 'feature.properties.name',\n",
        "                    fill_color = 'OrRd'\n",
        "                    ).add_to(map_name)\n",
        "\n",
        "def gu_lat_long(map_name):\n",
        "  for i, row in gu_lat_long.iterrows():\n",
        "    temp = row[\"구\"]\n",
        "    s = \"Info\"\n",
        "    folium.Marker([row[\"위도\"], row[\"경도\"]],icon = folium.DivIcon(html = f\"\"\" \n",
        "                  {\"{}\".format(temp) }  \"\"\")).add_to(map_name)\n"
      ]
    }
  ]
}